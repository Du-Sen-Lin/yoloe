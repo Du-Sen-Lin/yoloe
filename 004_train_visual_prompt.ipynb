{
 "cells": [
  {
   "cell_type": "markdown",
   "id": "29ef073f-4aa9-4c91-a613-df6821d15df1",
   "metadata": {},
   "source": [
    "# 视觉提示训练\n"
   ]
  },
  {
   "cell_type": "markdown",
   "id": "8bd30eaa-7a7b-47e0-b6c8-28ffbfb84b22",
   "metadata": {},
   "source": [
    "## 数据集准备"
   ]
  },
  {
   "cell_type": "code",
   "execution_count": null,
   "id": "88e3895e-faf2-41de-b92a-6523a40c4a2a",
   "metadata": {},
   "outputs": [],
   "source": []
  },
  {
   "cell_type": "markdown",
   "id": "b5543897-0551-4efd-8326-c113fba29d99",
   "metadata": {},
   "source": [
    "## visual prompt 训练\n",
    "训练 yolo标注格式的目标检测数据集"
   ]
  },
  {
   "cell_type": "markdown",
   "id": "d6205079-c432-4c68-9ef4-f8951de83d66",
   "metadata": {},
   "source": [
    "```\n",
    "# For visual prompt, because only SAVPE is trained, we can adopt the detection pipeline with less training time\n",
    "\n",
    "# First, obtain the detection model\n",
    "python tools/convert_segm2det.py\n",
    "# Then, train the SAVPE module\n",
    "python train_vp.py\n",
    "# After training, please use tools/get_vp_segm.py to add the segmentation head\n",
    "# python tools/get_vp_segm.py\n",
    "```"
   ]
  },
  {
   "cell_type": "code",
   "execution_count": 1,
   "id": "3c8344ea-4371-4676-a164-efdb64cdb577",
   "metadata": {},
   "outputs": [],
   "source": [
    "%load_ext autoreload \n",
    "%autoreload 2"
   ]
  },
  {
   "cell_type": "code",
   "execution_count": 2,
   "id": "abfca4bd-ad8c-45cd-9439-f051edef1df3",
   "metadata": {},
   "outputs": [],
   "source": [
    "%matplotlib inline"
   ]
  },
  {
   "cell_type": "code",
   "execution_count": 3,
   "id": "96521a9d-0fc9-42ad-a33e-01427d4c5a85",
   "metadata": {},
   "outputs": [],
   "source": [
    "import os\n",
    "os.environ[\"CUDA_VISIBLE_DEVICES\"] = \"2\" \n",
    "\n",
    "# 设置 HTTP 和 HTTPS 代理\n",
    "os.environ[\"http_proxy\"] = \"***\"\n",
    "os.environ[\"https_proxy\"] = \"***\""
   ]
  },
  {
   "cell_type": "markdown",
   "id": "2c3be408-83d4-4ad0-bacc-6de20b2cf213",
   "metadata": {},
   "source": [
    "## convert segm2det"
   ]
  },
  {
   "cell_type": "code",
   "execution_count": 4,
   "id": "102d3c40-71b5-4dfd-9384-5ed7d162a902",
   "metadata": {},
   "outputs": [],
   "source": [
    "# from ultralytics import YOLOE\n",
    "# import torch\n",
    "\n",
    "# det_model = YOLOE(\"yoloe-v8l.yaml\")\n",
    "\n",
    "# state = torch.load(\"./pretrain/yoloe-v8l-seg.pt\")\n",
    "\n",
    "# det_model.load(state[\"model\"])\n",
    "# det_model.save(\"./pretrain/yoloe-v8l-seg-det.pt\")\n",
    "\n",
    "# model = YOLOE(\"./pretrain/yoloe-v8l-seg-det.pt\")\n",
    "# print(model.args)\n"
   ]
  },
  {
   "cell_type": "markdown",
   "id": "ba7c6f93-82b3-454a-95f9-32343142defc",
   "metadata": {},
   "source": [
    "## train"
   ]
  },
  {
   "cell_type": "code",
   "execution_count": 5,
   "id": "8d594aaa-4bcf-422b-9fc1-811632afc399",
   "metadata": {},
   "outputs": [],
   "source": [
    "from ultralytics import YOLOE\n",
    "from ultralytics.models.yolo.yoloe.train_seg_vp import YOLOESegVPTrainer\n",
    "from ultralytics.models.yolo.yoloe.train_vp import YOLOEVPTrainer\n",
    "import os\n",
    "from ultralytics.nn.tasks import guess_model_scale\n",
    "from ultralytics.utils import yaml_load, LOGGER\n",
    "\n",
    "os.environ[\"PYTHONHASHSEED\"] = \"0\"\n",
    "# os.environ[\"PYTORCH_CUDA_ALLOC_CONF\"] = \"expandable_segments:True\""
   ]
  },
  {
   "cell_type": "code",
   "execution_count": 6,
   "id": "4533737a-5ef4-42ed-b714-58d54040eb21",
   "metadata": {},
   "outputs": [
    {
     "name": "stdout",
     "output_type": "stream",
     "text": [
      "Extends: {}\n"
     ]
    }
   ],
   "source": [
    "\n",
    "# yolo格式的目标检测数据集\n",
    "data = dict(\n",
    "    train=dict(\n",
    "        yolo_data=[\"/root/project/research/Yolo/yoloe/ultralytics/cfg/datasets/glass.yaml\"],\n",
    "    ),\n",
    "    val=dict(yolo_data=[\"/root/project/research/Yolo/yoloe/ultralytics/cfg/datasets/glass.yaml\"]),\n",
    ")\n",
    "\n",
    "# yolo格式的实例分割数据集\n",
    "\"\"\"\n",
    "data = dict(\n",
    "    train=dict(\n",
    "        yolo_data=[\"/root/project/research/Yolo/yoloe/ultralytics/cfg/datasets/custom.yaml\"],\n",
    "    ),\n",
    "    val=dict(yolo_data=[\"/root/project/research/Yolo/yoloe/ultralytics/cfg/datasets/custom.yaml\"]),\n",
    ")\n",
    "\"\"\"\n",
    "\n",
    "model_path = \"yoloe-v8l.yaml\"\n",
    "\n",
    "scale = guess_model_scale(model_path)\n",
    "cfg_dir = \"ultralytics/cfg\"\n",
    "default_cfg_path = f\"{cfg_dir}/default.yaml\"\n",
    "extend_cfg_path = f\"{cfg_dir}/{scale}_train.yaml\"\n",
    "defaults = yaml_load(default_cfg_path)\n",
    "extends = yaml_load(extend_cfg_path)\n",
    "assert(all(k in defaults for k in extends))\n",
    "LOGGER.info(f\"Extends: {extends}\")"
   ]
  },
  {
   "cell_type": "code",
   "execution_count": 7,
   "id": "659a63f2-e5db-42e2-9d11-9a08425e81ac",
   "metadata": {},
   "outputs": [],
   "source": [
    "model = YOLOE(\"./pretrain/yoloe-v8l-seg-det.pt\")\n",
    "# YOLOESegVPTrainer => YOLOEVPTrainer\n",
    "\n",
    "head_index = len(model.model.model) - 1\n",
    "freeze = list(range(0, head_index))\n",
    "for name, child in model.model.model[-1].named_children():\n",
    "    if 'savpe' not in name:\n",
    "        freeze.append(f\"{head_index}.{name}\")"
   ]
  },
  {
   "cell_type": "code",
   "execution_count": 9,
   "id": "67774f47-1013-433c-8626-ffe5b5aa9230",
   "metadata": {},
   "outputs": [],
   "source": [
    "# For s/m, please set lr0=8e-3\n",
    "model.train(data=data, batch=32, epochs=2, **extends, close_mosaic=2, \\\n",
    "    optimizer='AdamW', lr0=16e-3, warmup_bias_lr=0.0, \\\n",
    "        weight_decay=0.025, momentum=0.9, workers=4, \\\n",
    "        trainer=YOLOEVPTrainer, device='0', freeze=freeze, load_vp=True)"
   ]
  },
  {
   "cell_type": "code",
   "execution_count": null,
   "id": "d956f505-7381-4cf9-87d2-ddcd6f501cbb",
   "metadata": {},
   "outputs": [],
   "source": []
  }
 ],
 "metadata": {
  "kernelspec": {
   "display_name": "Python 3 (ipykernel)",
   "language": "python",
   "name": "python3"
  },
  "language_info": {
   "codemirror_mode": {
    "name": "ipython",
    "version": 3
   },
   "file_extension": ".py",
   "mimetype": "text/x-python",
   "name": "python",
   "nbconvert_exporter": "python",
   "pygments_lexer": "ipython3",
   "version": "3.10.16"
  }
 },
 "nbformat": 4,
 "nbformat_minor": 5
}
