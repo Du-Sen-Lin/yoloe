{
 "cells": [
  {
   "cell_type": "markdown",
   "id": "765a05e6-32ba-44d5-b458-f9ceb0c81cd3",
   "metadata": {},
   "source": [
    "# 迁移学习\n",
    "```markdown\n",
    "YOLOE 的训练是基于 prompt learning 思想：\n",
    "\n",
    "模式\t   含义\t                         特点\n",
    "-----------------------------------------------------------------------------------------------\n",
    "Linear   Probing（PE-only）\t       只训练最后一层 prompt embedding\t快速收敛，避免过拟合，适合小数据\n",
    "-----------------------------------------------------------------------------------------------\n",
    "Full     Tuning（PE+Backbone 全部）     更高精度，训练时间更长，需要更多数据\n",
    "-----------------------------------------------------------------------------------------------\n",
    "```"
   ]
  },
  {
   "cell_type": "markdown",
   "id": "f18d3ea0-1895-48cd-880d-cc9b17eba605",
   "metadata": {},
   "source": [
    "##  Linear Probing（只训练 PE）\n",
    "类似于固定主干，仅训练分类层或 prompt embedding，等于微调最后一层。\n",
    "\n",
    "`python train_pe.py`\n",
    "\n",
    "特征：\n",
    "- 模型权重几乎全部冻结；\n",
    "- 只训练 PE（Prompt Embedding）模块；\n",
    "- 速度快，适合小样本场景；\n",
    "- 通常先使用这个方式 warm-up 微调。"
   ]
  },
  {
   "cell_type": "code",
   "execution_count": 1,
   "id": "22492792-992e-432c-a3e9-327d88447f25",
   "metadata": {},
   "outputs": [],
   "source": [
    "%load_ext autoreload \n",
    "%autoreload 2"
   ]
  },
  {
   "cell_type": "code",
   "execution_count": 2,
   "id": "0e70845a-34a8-4935-8e6e-3610bfdfb4f0",
   "metadata": {},
   "outputs": [],
   "source": [
    "%matplotlib inline"
   ]
  },
  {
   "cell_type": "code",
   "execution_count": 3,
   "id": "e3f52d2d-7c94-4fad-8cf3-58fd6b4c9596",
   "metadata": {},
   "outputs": [],
   "source": [
    "import os\n",
    "os.environ[\"CUDA_VISIBLE_DEVICES\"] = \"4\" \n",
    "\n",
    "# 设置 HTTP 和 HTTPS 代理\n",
    "os.environ[\"http_proxy\"] = \"***\"\n",
    "os.environ[\"https_proxy\"] = \"***\""
   ]
  },
  {
   "cell_type": "code",
   "execution_count": 4,
   "id": "7cb36a89-391c-4e80-850d-7d009f76a521",
   "metadata": {},
   "outputs": [],
   "source": [
    "from ultralytics import YOLOE\n",
    "from ultralytics.models.yolo.yoloe.train_pe import YOLOEPETrainer, YOLOEPESegTrainer\n",
    "import os\n",
    "from ultralytics.nn.tasks import guess_model_scale\n",
    "from ultralytics.utils import yaml_load, LOGGER\n",
    "import torch\n",
    "\n",
    "os.environ[\"PYTHONHASHSEED\"] = \"0\""
   ]
  },
  {
   "cell_type": "markdown",
   "id": "b9de2d51-e880-418c-b2a4-cdb943e6644b",
   "metadata": {},
   "source": [
    "配置路径与模型 scale"
   ]
  },
  {
   "cell_type": "code",
   "execution_count": 5,
   "id": "cf90db07-eaa8-486d-a0ea-2059d6fb589b",
   "metadata": {},
   "outputs": [
    {
     "name": "stdout",
     "output_type": "stream",
     "text": [
      "Extends: {'overlap_mask': True, 'scale': 0.9, 'mixup': 0.15, 'copy_paste': 0.3}\n"
     ]
    }
   ],
   "source": [
    "# data = \"ultralytics/cfg/datasets/glass.yaml\"\n",
    "# data = \"ultralytics/cfg/datasets/coco128.yaml\"\n",
    "# data = \"ultralytics/cfg/datasets/coco.yaml\"\n",
    "data = \"ultralytics/cfg/datasets/custom.yaml\"\n",
    "\n",
    "model_path = \"yoloe-v8l-seg.yaml\"\n",
    "\n",
    "\n",
    "scale = guess_model_scale(model_path)\n",
    "cfg_dir = \"ultralytics/cfg\"\n",
    "default_cfg_path = f\"{cfg_dir}/default.yaml\"\n",
    "extend_cfg_path = f\"{cfg_dir}/coco_{scale}_train.yaml\"\n",
    "defaults = yaml_load(default_cfg_path)\n",
    "extends = yaml_load(extend_cfg_path)\n",
    "assert(all(k in defaults for k in extends))  # 保证扩展配置键都存在\n",
    "LOGGER.info(f\"Extends: {extends}\")"
   ]
  },
  {
   "cell_type": "code",
   "execution_count": 17,
   "id": "5789d2c6-7bd5-412e-abc4-837c59a6705a",
   "metadata": {},
   "outputs": [],
   "source": [
    "# scale, defaults, extends"
   ]
  },
  {
   "cell_type": "markdown",
   "id": "a42722f1-a5d5-4d52-a3e6-8a5d79e4968d",
   "metadata": {},
   "source": [
    "加载模型并构造 Prompt Embedding"
   ]
  },
  {
   "cell_type": "code",
   "execution_count": 8,
   "id": "b09f4156-68d5-461e-96b7-83e8cf685b57",
   "metadata": {},
   "outputs": [
    {
     "name": "stdout",
     "output_type": "stream",
     "text": [
      "Build text model mobileclip:blt\n"
     ]
    }
   ],
   "source": [
    "model = YOLOE(\"./pretrain/yoloe-v8l-seg.pt\")\n",
    "# Ensure pe is set for classes\n",
    "names = list(yaml_load(data)['names'].values())\n",
    "tpe = model.get_text_pe(names)\n",
    "# pe_path = \"glass-pe.pt\"\n",
    "# pe_path = \"coco128-pe.pt\"\n",
    "# pe_path = \"coco-pe.pt\"\n",
    "pe_path = \"custom-pe.pt\"\n",
    "torch.save({\"names\": names, \"pe\": tpe}, pe_path)"
   ]
  },
  {
   "cell_type": "code",
   "execution_count": 9,
   "id": "adbdebe0-876b-4551-9b05-e5adc2c91ccc",
   "metadata": {},
   "outputs": [
    {
     "data": {
      "text/plain": [
       "(7, torch.Size([1, 7, 512]))"
      ]
     },
     "execution_count": 9,
     "metadata": {},
     "output_type": "execute_result"
    }
   ],
   "source": [
    "len(names), tpe.shape"
   ]
  },
  {
   "cell_type": "code",
   "execution_count": 10,
   "id": "e2658f52-6ac5-419c-9740-a2e7912e1cfe",
   "metadata": {},
   "outputs": [
    {
     "data": {
      "text/plain": [
       "['bracket component',\n",
       " 'sliding sleeve',\n",
       " 'elastic bridge',\n",
       " 'fastening screw',\n",
       " 'fastening nut',\n",
       " 'small adjustment block',\n",
       " 'large adjustment block']"
      ]
     },
     "execution_count": 10,
     "metadata": {},
     "output_type": "execute_result"
    }
   ],
   "source": [
    "names"
   ]
  },
  {
   "cell_type": "markdown",
   "id": "5330f1b1-31ad-4e56-9c4d-1c4e5dca0793",
   "metadata": {},
   "source": [
    "构建冻结列表（freeze 主干网络）"
   ]
  },
  {
   "cell_type": "code",
   "execution_count": 11,
   "id": "2256dcae-5438-4179-a3aa-4930089019cf",
   "metadata": {},
   "outputs": [],
   "source": [
    "head_index = len(model.model.model) - 1  # 获取最后一层索引\n",
    "freeze = [str(f) for f in range(0, head_index)]  # 冻结前面所有层\n",
    "\n",
    "# 进一步冻结检测头部除 prompt 部分\n",
    "for name, child in model.model.model[-1].named_children():\n",
    "    if 'cv3' not in name:\n",
    "        freeze.append(f\"{head_index}.{name}\")\n",
    "\n",
    "freeze.extend([f\"{head_index}.cv3.0.0\", f\"{head_index}.cv3.0.1\", \n",
    "               f\"{head_index}.cv3.1.0\", f\"{head_index}.cv3.1.1\", \n",
    "               f\"{head_index}.cv3.2.0\", f\"{head_index}.cv3.2.1\"])\n"
   ]
  },
  {
   "cell_type": "markdown",
   "id": "3e753f9f-39d5-4096-a5a4-f5d997289318",
   "metadata": {},
   "source": [
    "- data\t训练数据 yaml 路径\n",
    "- epochs\t训练轮数（这里只训练 10 轮）\n",
    "- close_mosaic\t关闭 mosaic 的 epoch（用于提升精度）\n",
    "- batch\t批量大小（128 适用于多卡）\n",
    "- optimizer\t使用 AdamW（适合 Prompt Learning）\n",
    "- trainer\t使用 YOLOEPESegTrainer，专用于 Prompt Embedding 训练\n",
    "- freeze\t冻结大部分层，仅训练 prompt\n",
    "- train_pe_path\t提前生成的 PE 参数路径"
   ]
  },
  {
   "cell_type": "code",
   "execution_count": 16,
   "id": "4455e550-f921-4277-a9f5-37c51a4aed67",
   "metadata": {
    "scrolled": true
   },
   "outputs": [],
   "source": [
    "model.train(data=data, epochs=50, close_mosaic=5, batch=32, \n",
    "            optimizer='AdamW', lr0=1e-3, warmup_bias_lr=0.0, \\\n",
    "            weight_decay=0.025, momentum=0.9, workers=4, \\\n",
    "            device=\"0\", **extends, \\\n",
    "            trainer=YOLOEPESegTrainer, freeze=freeze, train_pe_path=pe_path)"
   ]
  },
  {
   "cell_type": "markdown",
   "id": "c7a9cc56-7281-4473-9673-eb3b73b39a66",
   "metadata": {},
   "source": [
    "### 结果验证\n",
    "\n",
    "`/root/project/research/Yolo/ultralytics/runs/segment/train6`"
   ]
  },
  {
   "cell_type": "code",
   "execution_count": 13,
   "id": "ab458282-0ff8-4c55-a8ad-e0358e416299",
   "metadata": {},
   "outputs": [],
   "source": [
    "from ultralytics import YOLOE"
   ]
  },
  {
   "cell_type": "code",
   "execution_count": 15,
   "id": "edac9190-f1e5-4583-93d1-cc890bbeb3fe",
   "metadata": {},
   "outputs": [
    {
     "name": "stdout",
     "output_type": "stream",
     "text": [
      "names: ['bracket component', 'sliding sleeve', 'elastic bridge', 'fastening screw', 'fastening nut', 'small adjustment block', 'large adjustment block']\n",
      "pe: torch.Size([1, 7, 512])\n",
      "Build text model mobileclip:blt\n",
      "\n",
      "image 1/1 /root/dataset/glass_data_20250317/images/train/Image_20250210134520105.bmp: 640x640 2 bracket components, 2 sliding sleeves, 2 elastic bridges, 43.5ms\n",
      "Speed: 21.0ms preprocess, 43.5ms inference, 46.9ms postprocess per image at shape (1, 3, 640, 640)\n",
      "Results saved to \u001b[1m/root/project/research/Yolo/ultralytics/runs/segment/predict24\u001b[0m\n"
     ]
    }
   ],
   "source": [
    "# 加载训练好的模型\n",
    "import torch\n",
    "pe_data = torch.load(\"custom-pe.pt\")\n",
    "names = pe_data[\"names\"]\n",
    "print(f\"names: {names}\")\n",
    "pe = pe_data[\"pe\"]\n",
    "print(f\"pe: {pe.shape}\")\n",
    "model = YOLOE(\"/root/project/research/Yolo/ultralytics/runs/segment/train7/weights/best.pt\")\n",
    "model.set_classes(names, model.get_text_pe(names))\n",
    "\n",
    "# model = YOLOE(\"/root/project/research/Yolo/ultralytics/runs/segment/train6/weights/best.pt\")  # 或你自定义保存的路径\n",
    "\n",
    "# 推理图片\n",
    "results = model.predict(source='/root/dataset/glass_data_20250317/images/train/Image_20250210134520105.bmp', save=True)\n",
    "\n",
    "# # 打印结果\n",
    "# for result in results:\n",
    "#     print(result.boxes)       # 检测框\n",
    "#     print(result.masks)       # 分割掩膜（如果是 segment 模型）\n",
    "#     print(result.probs)       # 类别概率（可选）"
   ]
  },
  {
   "cell_type": "code",
   "execution_count": null,
   "id": "1e0a9695-bfe4-4d69-8edf-c501c8580857",
   "metadata": {},
   "outputs": [],
   "source": []
  },
  {
   "cell_type": "markdown",
   "id": "f06a7f9a-3c1b-4fcc-90a0-395affd24c81",
   "metadata": {},
   "source": [
    "## Full Tuning（全部可训练）\n",
    "对整个网络做 end-to-end 的训练，性能最好但训练时间长\n",
    "\n",
    "`python train_pe_all.py`\n",
    "\n",
    "特征：\n",
    "- 全参数可训练；\n",
    "- 适用于大数据量的场景；\n",
    "- 如果模型为 s 级别（YOLOE-v8s），建议将 epochs 改为 160："
   ]
  },
  {
   "cell_type": "code",
   "execution_count": null,
   "id": "e33fd81e-85cd-4c70-8212-f99560c66653",
   "metadata": {},
   "outputs": [],
   "source": []
  }
 ],
 "metadata": {
  "kernelspec": {
   "display_name": "Python 3 (ipykernel)",
   "language": "python",
   "name": "python3"
  },
  "language_info": {
   "codemirror_mode": {
    "name": "ipython",
    "version": 3
   },
   "file_extension": ".py",
   "mimetype": "text/x-python",
   "name": "python",
   "nbconvert_exporter": "python",
   "pygments_lexer": "ipython3",
   "version": "3.10.16"
  }
 },
 "nbformat": 4,
 "nbformat_minor": 5
}
