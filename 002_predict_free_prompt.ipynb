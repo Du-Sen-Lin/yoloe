{
 "cells": [
  {
   "cell_type": "code",
   "execution_count": 1,
   "id": "fc50d041-6f19-49ca-86a8-9b972a1474d7",
   "metadata": {},
   "outputs": [],
   "source": [
    "%load_ext autoreload \n",
    "%autoreload 2"
   ]
  },
  {
   "cell_type": "code",
   "execution_count": 2,
   "id": "3ca12976-6c35-4950-b12d-bbe09d64ce6c",
   "metadata": {},
   "outputs": [],
   "source": [
    "%matplotlib inline"
   ]
  },
  {
   "cell_type": "code",
   "execution_count": 3,
   "id": "d86d0c49-db41-4757-a3ff-d2d8d796afe9",
   "metadata": {},
   "outputs": [],
   "source": [
    "import os\n",
    "os.environ[\"CUDA_VISIBLE_DEVICES\"] = \"4\" \n",
    "\n",
    "# 设置 HTTP 和 HTTPS 代理\n",
    "os.environ[\"http_proxy\"] = \"***\"\n",
    "os.environ[\"https_proxy\"] = \"***\""
   ]
  },
  {
   "cell_type": "markdown",
   "id": "481a3eff-ec4a-4a4d-93b7-5cd9c274af93",
   "metadata": {},
   "source": [
    "# predict"
   ]
  },
  {
   "cell_type": "markdown",
   "id": "2265260e-52c1-4afb-9d15-d8cbd769b0b9",
   "metadata": {},
   "source": [
    "## free prompt\n",
    "你这段代码是基于 YOLOE 做 PE-free（Prompt Embedding Free）推理 的流程，它背后的目的就是：\n",
    "\n",
    "利用一个 vocab 构建固定类别的 embedding，使得后续模型推理时无需每次动态计算文本 embedding（也就无需 text prompt），提高推理效率。"
   ]
  },
  {
   "cell_type": "code",
   "execution_count": 4,
   "id": "75d12dc7-2c85-4bcb-aab9-2fe517c0036f",
   "metadata": {},
   "outputs": [],
   "source": [
    "import argparse\n",
    "import os\n",
    "from PIL import Image\n",
    "import supervision as sv\n",
    "from ultralytics import YOLOE\n",
    "import numpy as np\n",
    "from ultralytics.models.yolo.yoloe.predict_vp import YOLOEVPSegPredictor\n",
    "import matplotlib.pyplot as plt\n",
    "from ultralytics import YOLOE\n",
    "from ultralytics.models.yolo.yoloe.val_pe_free import YOLOEPEFreeDetectValidator"
   ]
  },
  {
   "cell_type": "markdown",
   "id": "f2f070cb-eeb0-4876-8242-e26951e08db8",
   "metadata": {},
   "source": [
    "加载未融合模型并提取 vocab（文本嵌入字典），这一步你加载了一个“未融合模型”，目的是提取 prompt embedding（VPE）。"
   ]
  },
  {
   "cell_type": "code",
   "execution_count": 13,
   "id": "e3bb4c95-1a8e-4739-b0cf-f7417b7e1d84",
   "metadata": {
    "scrolled": true
   },
   "outputs": [],
   "source": [
    "unfused_model = YOLOE(\"yoloe-v8l.yaml\")\n",
    "unfused_model.load(\"pretrain/yoloe-v8l-seg.pt\")\n",
    "unfused_model.eval()\n",
    "unfused_model.cuda()"
   ]
  },
  {
   "cell_type": "markdown",
   "id": "308818f4-b9e3-43f6-9775-4c0048ff8da9",
   "metadata": {},
   "source": [
    "这里从 ram_tag_list.txt 文件中读取类名，然后通过 get_vocab() 得到这些类别对应的 embedding。"
   ]
  },
  {
   "cell_type": "code",
   "execution_count": 6,
   "id": "0041d7c3-0b4c-40ad-9efc-3e6b2e47c136",
   "metadata": {},
   "outputs": [
    {
     "name": "stdout",
     "output_type": "stream",
     "text": [
      "Build text model mobileclip:blt\n",
      "YOLOe-v8l summary (fused): 311 layers, 49,168,166 parameters, 49,166,608 gradients, 164.8 GFLOPs\n"
     ]
    }
   ],
   "source": [
    "with open('tools/ram_tag_list.txt', 'r') as f:\n",
    "    names = [x.strip() for x in f.readlines()]\n",
    "names = ['person', 'dog']\n",
    "vocab = unfused_model.get_vocab(names)"
   ]
  },
  {
   "cell_type": "code",
   "execution_count": 7,
   "id": "6695cdce-7032-4991-8562-0dc3b0f895e9",
   "metadata": {},
   "outputs": [
    {
     "data": {
      "text/plain": [
       "(2,\n",
       " ModuleList(\n",
       "   (0-2): 3 x Conv2d(256, 2, kernel_size=(1, 1), stride=(1, 1))\n",
       " ))"
      ]
     },
     "execution_count": 7,
     "metadata": {},
     "output_type": "execute_result"
    }
   ],
   "source": [
    "len(names), vocab"
   ]
  },
  {
   "cell_type": "code",
   "execution_count": 8,
   "id": "aba4c83c-d6dd-4def-82f6-17dcbd415f5b",
   "metadata": {},
   "outputs": [
    {
     "name": "stdout",
     "output_type": "stream",
     "text": [
      "True\n",
      "False\n"
     ]
    }
   ],
   "source": [
    "# 检查是否包含 \"person\" 和 \"bus\"\n",
    "print(\"person\" in names)  # True or False\n",
    "print(\"bus\" in names)     # True or False"
   ]
  },
  {
   "cell_type": "markdown",
   "id": "99bdebeb-c008-44b8-930a-1ed781c0a64f",
   "metadata": {},
   "source": [
    "加载主模型，并设置 vocab（让模型支持这些类别）"
   ]
  },
  {
   "cell_type": "code",
   "execution_count": 9,
   "id": "637d9f99-f3a2-43e1-9fe0-bf85c0369b3b",
   "metadata": {},
   "outputs": [],
   "source": [
    "model = YOLOE(\"pretrain/yoloe-v8l-seg-pf.pt\").cuda()\n",
    "model.set_vocab(vocab, names=names)"
   ]
  },
  {
   "cell_type": "markdown",
   "id": "e1b0e8f0-4276-40de-ae55-88c3b20fed8c",
   "metadata": {},
   "source": [
    "推理设置（非必要但重要）"
   ]
  },
  {
   "cell_type": "code",
   "execution_count": 10,
   "id": "bc3debbe-75f5-4ea4-9608-0073c7039e31",
   "metadata": {},
   "outputs": [],
   "source": [
    "model.model.model[-1].is_fused = True\n",
    "model.model.model[-1].conf = 0.001\n",
    "model.model.model[-1].max_det = 1000"
   ]
  },
  {
   "cell_type": "code",
   "execution_count": 11,
   "id": "7051e443-a9b9-48db-a4cc-54cedda1697d",
   "metadata": {},
   "outputs": [
    {
     "name": "stdout",
     "output_type": "stream",
     "text": [
      "\n",
      "0: 640x640 10 persons, 27 dogs, 31.1ms\n",
      "Speed: 4.6ms preprocess, 31.1ms inference, 38.2ms postprocess per image at shape (1, 3, 640, 640)\n"
     ]
    }
   ],
   "source": [
    "# 效果有问题 ？？？？？？？？？？？？？？？？？？\n",
    "# target_image_path = \"/root/dataset/glass_data_20250317/images/train/Image_20250210134520105.bmp\"\n",
    "target_image_path = \"./ultralytics/assets/zidane.jpg\"\n",
    "target_image = Image.open(target_image_path).convert(\"RGB\")\n",
    "\n",
    "output = \"/root/project/research/Yolo/yoloe/test_data_out/\"\n",
    "os.makedirs(output, exist_ok=True)\n",
    "\n",
    "results = model.predict(target_image, save=False, conf=0.25)\n",
    "# for r in results:\n",
    "#     print(r.boxes.data)  # print detection bounding boxes"
   ]
  },
  {
   "cell_type": "code",
   "execution_count": 12,
   "id": "d5ff3cb7-8781-41bc-b394-866b9a90c14d",
   "metadata": {},
   "outputs": [
    {
     "name": "stdout",
     "output_type": "stream",
     "text": [
      "annotated_image: (1280, 720)\n"
     ]
    }
   ],
   "source": [
    "detections = sv.Detections.from_ultralytics(results[0])\n",
    "# print(f\"detections: {detections}\")\n",
    "\n",
    "resolution_wh = target_image.size\n",
    "\n",
    "thickness = sv.calculate_optimal_line_thickness(resolution_wh=resolution_wh)\n",
    "text_scale = sv.calculate_optimal_text_scale(resolution_wh=resolution_wh)\n",
    "\n",
    "labels = [\n",
    "    f\"{class_name} {confidence:.2f}\"\n",
    "    for class_name, confidence in zip(detections[\"class_name\"], detections.confidence)\n",
    "]\n",
    "\n",
    "annotated_image = target_image.copy()\n",
    "\n",
    "annotated_image = sv.MaskAnnotator(\n",
    "    color_lookup=sv.ColorLookup.INDEX,\n",
    "    opacity=0.4\n",
    ").annotate(scene=annotated_image, detections=detections)\n",
    "\n",
    "annotated_image = sv.BoxAnnotator(\n",
    "    color_lookup=sv.ColorLookup.INDEX,\n",
    "    thickness=thickness\n",
    ").annotate(scene=annotated_image, detections=detections)\n",
    "\n",
    "annotated_image = sv.LabelAnnotator(\n",
    "    color_lookup=sv.ColorLookup.INDEX,\n",
    "    text_scale=text_scale,\n",
    "    smart_position=True\n",
    ").annotate(scene=annotated_image, detections=detections, labels=labels)\n",
    "\n",
    "print(f\"annotated_image: {annotated_image.size}\")\n",
    "# fig, ax = plt.subplots(figsize=(8, 8))\n",
    "# ax.imshow(annotated_image, cmap=\"gray\")\n",
    "\n",
    "base, ext = os.path.splitext(target_image_path)\n",
    "path, filename = os.path.split(target_image_path)\n",
    "# print(f\"base: {path}, ext: {filename}\")\n",
    "output_name = os.path.join(output, \"re_\" + filename)\n",
    "# print(f\"output_name: {output_name}\")\n",
    "annotated_image.save(output_name)"
   ]
  },
  {
   "cell_type": "code",
   "execution_count": null,
   "id": "b5413db0-7b33-47b4-9057-140b0ef79e93",
   "metadata": {},
   "outputs": [],
   "source": []
  },
  {
   "cell_type": "code",
   "execution_count": null,
   "id": "c64e3b08-6099-4417-a393-fd89cf629fe0",
   "metadata": {},
   "outputs": [],
   "source": []
  }
 ],
 "metadata": {
  "kernelspec": {
   "display_name": "Python 3 (ipykernel)",
   "language": "python",
   "name": "python3"
  },
  "language_info": {
   "codemirror_mode": {
    "name": "ipython",
    "version": 3
   },
   "file_extension": ".py",
   "mimetype": "text/x-python",
   "name": "python",
   "nbconvert_exporter": "python",
   "pygments_lexer": "ipython3",
   "version": "3.10.16"
  }
 },
 "nbformat": 4,
 "nbformat_minor": 5
}
